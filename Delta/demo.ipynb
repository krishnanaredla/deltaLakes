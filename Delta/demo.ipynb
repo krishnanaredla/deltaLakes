{
 "cells": [
  {
   "cell_type": "code",
   "execution_count": 2,
   "metadata": {},
   "outputs": [],
   "source": [
    "from pyspark.sql import SparkSession\n",
    "\n",
    "\n",
    "spark = SparkSession.builder.appName(\"test\") \\\n",
    "    .config(\"spark.jars\", \"delta-core_2.12-0.7.0.jar\") \\\n",
    "    .config(\"spark.sql.extensions\", \"io.delta.sql.DeltaSparkSessionExtension\") \\\n",
    "    .config(\"spark.sql.catalog.spark_catalog\", \"org.apache.spark.sql.delta.catalog.DeltaCatalog\") \\\n",
    "    .getOrCreate()\n",
    "\n",
    "spark.sparkContext.addPyFile(\"delta-core_2.12-0.7.0.jar\")\n",
    "from delta.tables import *"
   ]
  },
  {
   "cell_type": "code",
   "execution_count": 7,
   "metadata": {},
   "outputs": [],
   "source": [
    "from IPython.display import display"
   ]
  },
  {
   "cell_type": "code",
   "execution_count": 8,
   "metadata": {},
   "outputs": [
    {
     "name": "stdout",
     "output_type": "stream",
     "text": [
      "+----------+--------------------+----------+-------------------+\n",
      "|customerId|             address|      city|          createdOn|\n",
      "+----------+--------------------+----------+-------------------+\n",
      "|         3|current address f...|chapel hil|2020-01-01 04:26:15|\n",
      "|         1|current address f...|    durham|2020-01-02 02:27:34|\n",
      "|         2|current address f...|      cary|2020-01-01 07:34:53|\n",
      "|         1|   old address for 1|    durham|2020-01-01 02:34:54|\n",
      "+----------+--------------------+----------+-------------------+\n",
      "\n"
     ]
    },
    {
     "data": {
      "text/plain": [
       "None"
      ]
     },
     "metadata": {},
     "output_type": "display_data"
    }
   ],
   "source": [
    "spark.read.parquet(r'C:\\work\\delta\\fullLoad.parquet').show()"
   ]
  },
  {
   "cell_type": "code",
   "execution_count": 15,
   "metadata": {},
   "outputs": [
    {
     "name": "stdout",
     "output_type": "stream",
     "text": [
      "+----------+--------------------+----------+--------------------+--------------------+-------------------+-------------------+\n",
      "|customerId|             address|      city|             hashKey|            hashData|          startDate|            endDate|\n",
      "+----------+--------------------+----------+--------------------+--------------------+-------------------+-------------------+\n",
      "|         3|current address f...|chapel hil|4e07408562bedb8b6...|0e6be27212bd4e28e...|2020-01-01 04:26:15|               null|\n",
      "|         2|current address f...|      cary|d4735e3a265e16eee...|fa1e24b2a865f8cae...|2020-01-01 07:34:53|               null|\n",
      "|         1|   old address for 1|    durham|6b86b273ff34fce19...|1b8c9703b187ae587...|2020-01-01 02:34:54|2020-01-02 02:27:34|\n",
      "|         1|current address f...|    durham|6b86b273ff34fce19...|46dbc1691eecc26b6...|2020-01-02 02:27:34|               null|\n",
      "+----------+--------------------+----------+--------------------+--------------------+-------------------+-------------------+\n",
      "\n"
     ]
    }
   ],
   "source": [
    "path = \"/data/DemoData/\"\n",
    "DeltaTable.forPath(spark, path).toDF().drop('createdOn').show()"
   ]
  },
  {
   "cell_type": "code",
   "execution_count": 12,
   "metadata": {},
   "outputs": [
    {
     "name": "stdout",
     "output_type": "stream",
     "text": [
      "+----------+--------------------+-------+-------------------+\n",
      "|customerId|             address|   city|          createdOn|\n",
      "+----------+--------------------+-------+-------------------+\n",
      "|         3|current address f...|   apex|2018-04-04 09:32:23|\n",
      "|         4|   new address for 4|Raleigh|2018-04-04 04:49:22|\n",
      "|         1|   new address for 1| durham|2018-03-03 02:34:65|\n",
      "+----------+--------------------+-------+-------------------+\n",
      "\n"
     ]
    }
   ],
   "source": [
    "spark.read.parquet(r'C:\\work\\delta\\incLoad.parquet').show()"
   ]
  },
  {
   "cell_type": "code",
   "execution_count": 16,
   "metadata": {},
   "outputs": [
    {
     "name": "stdout",
     "output_type": "stream",
     "text": [
      "+----------+--------------------+----------+--------------------+--------------------+-------------------+-------------------+\n",
      "|customerId|             address|      city|             hashKey|            hashData|          startDate|            endDate|\n",
      "+----------+--------------------+----------+--------------------+--------------------+-------------------+-------------------+\n",
      "|         3|current address f...|chapel hil|4e07408562bedb8b6...|0e6be27212bd4e28e...|2020-01-01 04:26:15|2018-04-04 09:32:23|\n",
      "|         2|current address f...|      cary|d4735e3a265e16eee...|fa1e24b2a865f8cae...|2020-01-01 07:34:53|               null|\n",
      "|         4|   new address for 4|   Raleigh|4b227777d4dd1fc61...|8662a510123fb5c66...|2018-04-04 04:49:22|               null|\n",
      "|         1|current address f...|    durham|6b86b273ff34fce19...|46dbc1691eecc26b6...|2020-01-02 02:27:34|2018-03-03 02:34:65|\n",
      "|         1|   old address for 1|    durham|6b86b273ff34fce19...|1b8c9703b187ae587...|2020-01-01 02:34:54|2020-01-02 02:27:34|\n",
      "|         1|   new address for 1|    durham|6b86b273ff34fce19...|99b862ad30cac4bec...|2018-03-03 02:34:65|               null|\n",
      "|         3|current address f...|      apex|4e07408562bedb8b6...|a25d8362438ee44e0...|2018-04-04 09:32:23|               null|\n",
      "+----------+--------------------+----------+--------------------+--------------------+-------------------+-------------------+\n",
      "\n"
     ]
    }
   ],
   "source": [
    "DeltaTable.forPath(spark, path).toDF().drop('createdOn').show()"
   ]
  },
  {
   "cell_type": "code",
   "execution_count": 20,
   "metadata": {},
   "outputs": [
    {
     "name": "stdout",
     "output_type": "stream",
     "text": [
      "+----------+--------------------+-------+--------------------+--------------------+-------------------+-------+\n",
      "|customerId|             address|   city|             hashKey|            hashData|          startDate|endDate|\n",
      "+----------+--------------------+-------+--------------------+--------------------+-------------------+-------+\n",
      "|         3|current address f...|   apex|4e07408562bedb8b6...|a25d8362438ee44e0...|2018-04-04 09:32:23|   null|\n",
      "|         2|current address f...|   cary|d4735e3a265e16eee...|fa1e24b2a865f8cae...|2020-01-01 07:34:53|   null|\n",
      "|         4|   new address for 4|Raleigh|4b227777d4dd1fc61...|8662a510123fb5c66...|2018-04-04 04:49:22|   null|\n",
      "|         1|   new address for 1| durham|6b86b273ff34fce19...|99b862ad30cac4bec...|2018-03-03 02:34:65|   null|\n",
      "+----------+--------------------+-------+--------------------+--------------------+-------------------+-------+\n",
      "\n"
     ]
    }
   ],
   "source": [
    "from pyspark.sql.functions import *\n",
    "DeltaTable.forPath(spark, path).toDF().drop('createdOn').filter(col('endDate').isNull()).show()"
   ]
  },
  {
   "cell_type": "code",
   "execution_count": null,
   "metadata": {},
   "outputs": [],
   "source": []
  }
 ],
 "metadata": {
  "kernelspec": {
   "display_name": "Python 3",
   "language": "python",
   "name": "python3"
  },
  "language_info": {
   "codemirror_mode": {
    "name": "ipython",
    "version": 3
   },
   "file_extension": ".py",
   "mimetype": "text/x-python",
   "name": "python",
   "nbconvert_exporter": "python",
   "pygments_lexer": "ipython3",
   "version": "3.8.3"
  }
 },
 "nbformat": 4,
 "nbformat_minor": 4
}
